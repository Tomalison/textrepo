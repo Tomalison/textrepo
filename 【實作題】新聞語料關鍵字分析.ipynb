{
  "nbformat": 4,
  "nbformat_minor": 0,
  "metadata": {
    "colab": {
      "provenance": [],
      "authorship_tag": "ABX9TyOaLzdFeXe9r/EdcRGKbTSj",
      "include_colab_link": true
    },
    "kernelspec": {
      "name": "python3",
      "display_name": "Python 3"
    },
    "language_info": {
      "name": "python"
    }
  },
  "cells": [
    {
      "cell_type": "markdown",
      "metadata": {
        "id": "view-in-github",
        "colab_type": "text"
      },
      "source": [
        "<a href=\"https://colab.research.google.com/github/Tomalison/textrepo/blob/main/%E3%80%90%E5%AF%A6%E4%BD%9C%E9%A1%8C%E3%80%91%E6%96%B0%E8%81%9E%E8%AA%9E%E6%96%99%E9%97%9C%E9%8D%B5%E5%AD%97%E5%88%86%E6%9E%90.ipynb\" target=\"_parent\"><img src=\"https://colab.research.google.com/assets/colab-badge.svg\" alt=\"Open In Colab\"/></a>"
      ]
    },
    {
      "cell_type": "code",
      "execution_count": null,
      "metadata": {
        "id": "zcO2s5vy_S7u"
      },
      "outputs": [],
      "source": [
        "import requests\n",
        "from bs4 import BeautifulSoup\n",
        "\n"
      ]
    },
    {
      "cell_type": "code",
      "source": [
        "# 利用 requests 對 API 來源傳送一個請求\n",
        "response = requests.get('https://udn.com/news/breaknews/1')\n",
        "soup = BeautifulSoup(response.text, features=\"html.parser\")\n",
        "\n",
        "news = []   # 建立一個空的 List 容器來存放新聞內容\n",
        "\n",
        "for link in soup.find_all('h3', class_='rounded-thumb__title')[:4]:\n",
        "    news_url = link.a['href']\n",
        "    news_response = requests.get('https://udn.com' + news_url)\n",
        "    news_soup = BeautifulSoup(news_response.text, features=\"html.parser\")\n",
        "    news_content = news_soup.find('div', class_='article-content__paragraph').text.strip().replace('\\n', ' ')\n",
        "    news.append(news_content)  # 將新聞內容加入 List 容器\n",
        "\n",
        "print(news)"
      ],
      "metadata": {
        "id": "yqkA-uKkBvSH"
      },
      "execution_count": null,
      "outputs": []
    },
    {
      "cell_type": "code",
      "source": [
        "!pip install jieba "
      ],
      "metadata": {
        "colab": {
          "base_uri": "https://localhost:8080/"
        },
        "id": "9usRP_7bByYQ",
        "outputId": "93ad8b41-6cb0-49f2-c900-69a4a4f392b5"
      },
      "execution_count": 1,
      "outputs": [
        {
          "output_type": "stream",
          "name": "stdout",
          "text": [
            "Looking in indexes: https://pypi.org/simple, https://us-python.pkg.dev/colab-wheels/public/simple/\n",
            "Requirement already satisfied: jieba in /usr/local/lib/python3.9/dist-packages (0.42.1)\n"
          ]
        }
      ]
    },
    {
      "cell_type": "code",
      "source": [
        "!wget https://raw.githubusercontent.com/fxsjy/jieba/master/extra_dict/dict.txt.big"
      ],
      "metadata": {
        "colab": {
          "base_uri": "https://localhost:8080/"
        },
        "id": "68mXWkaWCKYS",
        "outputId": "f5dd759e-1ccc-4c4d-de12-7fa440e28fdb"
      },
      "execution_count": 2,
      "outputs": [
        {
          "output_type": "stream",
          "name": "stdout",
          "text": [
            "--2023-04-05 06:09:28--  https://raw.githubusercontent.com/fxsjy/jieba/master/extra_dict/dict.txt.big\n",
            "Resolving raw.githubusercontent.com (raw.githubusercontent.com)... 185.199.110.133, 185.199.109.133, 185.199.108.133, ...\n",
            "Connecting to raw.githubusercontent.com (raw.githubusercontent.com)|185.199.110.133|:443... connected.\n",
            "HTTP request sent, awaiting response... 200 OK\n",
            "Length: 8583143 (8.2M) [text/plain]\n",
            "Saving to: ‘dict.txt.big’\n",
            "\n",
            "\rdict.txt.big          0%[                    ]       0  --.-KB/s               \rdict.txt.big        100%[===================>]   8.18M  --.-KB/s    in 0.06s   \n",
            "\n",
            "2023-04-05 06:09:29 (146 MB/s) - ‘dict.txt.big’ saved [8583143/8583143]\n",
            "\n"
          ]
        }
      ]
    },
    {
      "cell_type": "code",
      "source": [
        "import jieba\n",
        "jieba.load_userdict(\"dict.txt.big\")"
      ],
      "metadata": {
        "colab": {
          "base_uri": "https://localhost:8080/"
        },
        "id": "oD78JaMfCNmG",
        "outputId": "70c5ca68-0e33-4c98-8075-65df72b83fae"
      },
      "execution_count": 3,
      "outputs": [
        {
          "output_type": "stream",
          "name": "stderr",
          "text": [
            "Building prefix dict from the default dictionary ...\n",
            "DEBUG:jieba:Building prefix dict from the default dictionary ...\n",
            "Dumping model to file cache /tmp/jieba.cache\n",
            "DEBUG:jieba:Dumping model to file cache /tmp/jieba.cache\n",
            "Loading model cost 2.169 seconds.\n",
            "DEBUG:jieba:Loading model cost 2.169 seconds.\n",
            "Prefix dict has been built successfully.\n",
            "DEBUG:jieba:Prefix dict has been built successfully.\n"
          ]
        }
      ]
    },
    {
      "cell_type": "code",
      "source": [],
      "metadata": {
        "id": "9Nm3B6f9EZIp"
      },
      "execution_count": null,
      "outputs": []
    }
  ]
}